{
 "cells": [
  {
   "cell_type": "code",
   "execution_count": null,
   "metadata": {},
   "outputs": [],
   "source": [
    "import coremltools\n",
    "import onnxmltools"
   ]
  },
  {
   "cell_type": "code",
   "execution_count": null,
   "metadata": {},
   "outputs": [],
   "source": [
    "# Update these values to point to the right model inputs & outputs\n",
    "proto_file = 'deploy.prototxt' \n",
    "caffe_model = 'deploy.caffemodel'\n",
    "\n",
    "output_coreml_model = 'deploy.mlmodel'\n",
    "output_onnx_model = 'deploy.onnx'"
   ]
  },
  {
   "cell_type": "code",
   "execution_count": null,
   "metadata": {},
   "outputs": [],
   "source": [
    "# Convert Caffe model to CoreML \n",
    "coreml_model = coremltools.converters.caffe.convert((caffe_model, proto_file))\n",
    "\n",
    "# Save CoreML model\n",
    "coreml_model.save(output_coreml_model)\n",
    "\n",
    "# Load a Core ML model\n",
    "coreml_model = coremltools.utils.load_spec(output_coreml_model)\n",
    "\n",
    "# Convert the Core ML model into ONNX\n",
    "onnx_model = onnxmltools.convert_coreml(coreml_model)\n",
    "\n",
    "# Save as text\n",
    "# onnxmltools.utils.save_text(onnx_model, 'deploy.json')\n",
    "\n",
    "# Save as protobuf\n",
    "onnxmltools.utils.save_model(onnx_model, output_onnx_model)"
   ]
  },
  {
   "cell_type": "code",
   "execution_count": null,
   "metadata": {},
   "outputs": [],
   "source": []
  }
 ],
 "metadata": {
  "kernelspec": {
   "display_name": "Python 3",
   "language": "python",
   "name": "python3"
  },
  "language_info": {
   "codemirror_mode": {
    "name": "ipython",
    "version": 3
   },
   "file_extension": ".py",
   "mimetype": "text/x-python",
   "name": "python",
   "nbconvert_exporter": "python",
   "pygments_lexer": "ipython3",
   "version": "3.6.5"
  }
 },
 "nbformat": 4,
 "nbformat_minor": 2
}
